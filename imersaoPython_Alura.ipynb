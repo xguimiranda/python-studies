{
 "cells": [
  {
   "cell_type": "code",
   "execution_count": null,
   "id": "e3144ef5",
   "metadata": {},
   "outputs": [],
   "source": [
    "import pandas as pd"
   ]
  },
  {
   "cell_type": "code",
   "execution_count": null,
   "id": "cb10b871",
   "metadata": {},
   "outputs": [],
   "source": [
    "df = pd.read_csv(\"https://raw.githubusercontent.com/guilhermeonrails/data-jobs/refs/heads/main/salaries.csv\")"
   ]
  },
  {
   "cell_type": "code",
   "execution_count": null,
   "id": "254fa7bf",
   "metadata": {},
   "outputs": [],
   "source": [
    "df.head()"
   ]
  },
  {
   "cell_type": "code",
   "execution_count": null,
   "id": "2da660cc",
   "metadata": {},
   "outputs": [],
   "source": [
    "df.info()"
   ]
  },
  {
   "cell_type": "code",
   "execution_count": null,
   "id": "87a70039",
   "metadata": {},
   "outputs": [],
   "source": [
    "df.describe()"
   ]
  },
  {
   "cell_type": "code",
   "execution_count": null,
   "id": "cf2ab8eb",
   "metadata": {},
   "outputs": [],
   "source": [
    "df.shape"
   ]
  },
  {
   "cell_type": "code",
   "execution_count": null,
   "id": "feae712f",
   "metadata": {},
   "outputs": [],
   "source": [
    "linhas, colunas = df.shape[0], df.shape[1]\n",
    "print('Linhas:', linhas)\n",
    "print('Colunas:', colunas)"
   ]
  },
  {
   "cell_type": "code",
   "execution_count": null,
   "id": "e4d5aca7",
   "metadata": {},
   "outputs": [],
   "source": [
    "df.columns"
   ]
  },
  {
   "cell_type": "code",
   "execution_count": null,
   "id": "f9618bb3",
   "metadata": {},
   "outputs": [],
   "source": [
    "df.columns = [\n",
    "    'ano_trabalho', 'nivel_experiencia', 'tipo_emprego', 'cargo',\n",
    "    'salario', 'moeda_salario', 'salario_em_usd', 'residencia_funcionario',\n",
    "    'percentual_remoto', 'local_empresa', 'tamanho_empresa'\n",
    "]"
   ]
  }
 ],
 "metadata": {
  "kernelspec": {
   "display_name": "Python 3",
   "language": "python",
   "name": "python3"
  },
  "language_info": {
   "codemirror_mode": {
    "name": "ipython",
    "version": 3
   },
   "file_extension": ".py",
   "mimetype": "text/x-python",
   "name": "python",
   "nbconvert_exporter": "python",
   "pygments_lexer": "ipython3",
   "version": "3.13.2"
  }
 },
 "nbformat": 4,
 "nbformat_minor": 5
}
